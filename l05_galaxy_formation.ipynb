{
 "cells": [
  {
   "cell_type": "markdown",
   "metadata": {
    "slideshow": {
     "slide_type": "slide"
    }
   },
   "source": [
    "### Lecture 5. Physical properties driving evolution of galaxies\n",
    "\n",
    "### Andrey Kravtsov\n",
    "\n",
    "#### The University of Chicago \n",
    "\n",
    "#### email: kravtsov@uchicago.edu"
   ]
  },
  {
   "cell_type": "code",
   "execution_count": 3,
   "metadata": {
    "slideshow": {
     "slide_type": "skip"
    }
   },
   "outputs": [
    {
     "name": "stdout",
     "output_type": "stream",
     "text": [
      "The autoreload extension is already loaded. To reload it, use:\n",
      "  %reload_ext autoreload\n"
     ]
    }
   ],
   "source": [
    "# setup notebook for inline figures\n",
    "%matplotlib inline\n",
    "import numpy as np\n",
    "%load_ext autoreload\n",
    "%autoreload 2\n",
    "\n",
    "# import pyplot and set some parameters to make plots prettier\n",
    "import matplotlib.pyplot as plt\n",
    "from codes.plot_utils import plot_pretty\n",
    "plot_pretty()"
   ]
  },
  {
   "cell_type": "markdown",
   "metadata": {
    "slideshow": {
     "slide_type": "slide"
    }
   },
   "source": [
    "### Mass accretion history of halos in $\\Lambda$ simulations\n",
    "\n",
    "Can be understood using a simple model that predicts when shells of initial density profile of a typical peak in the Gaussian $\\delta$ field collapse. Left and right panels simply show the plot with log and linear scale of $t$. The right panel shows that $M(t)$ has two regime: fast $M$ growth at small $t$ and relatively slow $M$ at late time. \n",
    "\n",
    "<center>\n",
    "<img width=\"900\" align=\"center\" src=\"img/mah_dexpro_ec_slope.png\"></img>\n",
    "</center>\n"
   ]
  },
  {
   "cell_type": "markdown",
   "metadata": {
    "slideshow": {
     "slide_type": "slide"
    }
   },
   "source": [
    "### A useful approximation for average $\\dot{M}(t)$\n",
    "\n",
    "$$\\dot{M}=  1.06\\times 10^{12}\\ M_\\odot  \\left(\\frac{M}{10^{12}\\ M_\\odot}\\right)^{1.14}\\frac{\\dot{D}_+(t)}{D^2_+(t)},\n",
    "$$\n",
    "\n",
    "where $D_+(t)$ is the linear growth factor for a given cosmology (<a href=\"https://ui.adsabs.harvard.edu/abs/2012ApJ...753...16K/abstract\">Krumholz & Dekel 2012</a>). \n"
   ]
  },
  {
   "cell_type": "markdown",
   "metadata": {
    "slideshow": {
     "slide_type": "slide"
    }
   },
   "source": [
    "\n",
    "## A simple galaxy formation model\n",
    "\n",
    "Starting at some initial time $t_i$ (redshift $z_i$) and collapsed seed mass $M_i$, let's assume mass is accreted onto evolving object at the rate $\\dot{M}(t)$ that we can compute at any $t$. Solve a system of ODEs that include relevant processes in the parametrized form (see <a href=\"l04_peak_profile_MAH.ipynb\">lecture 4 notebook</a> for introduction of these equations)."
   ]
  },
  {
   "cell_type": "markdown",
   "metadata": {
    "slideshow": {
     "slide_type": "fragment"
    }
   },
   "source": [
    "$$\n",
    "\\begin{cases}\n",
    "\\dot{M}_{\\rm g, acc}= f_{\\rm b,acc}\\,\\dot{M}=f_{\\rm b,uni}\\,f_{\\rm b,in}\\dot{M},\\\\\n",
    "\\dot{M}_\\star =\\frac{M_{\\rm g}}{\\tau_{\\rm sf}} , \\\\\n",
    "\\dot{M}_{\\rm g}=\\dot{M}_{\\rm b,acc} - (1-\\mathcal{R})\\dot{M}_{\\star}, \\\\ \n",
    "\\dot{M}_{\\rm Z}=Z_{\\rm IGM}\\dot{M}_{\\rm g,acc} + y_{\\rm Z}(1-\\mathcal{R})\\dot{M}_{\\star} \n",
    "\\end{cases}$$\n",
    "\n",
    "These equations can be numerically integrated as a system of ODEs. Such integration is implemented in <a href=\"codes/galaxy_model.py\"><tt>codes/galaxy_model.py</tt></a> in python class <tt>model_galaxy</tt>. "
   ]
  },
  {
   "cell_type": "markdown",
   "metadata": {
    "slideshow": {
     "slide_type": "slide"
    }
   },
   "source": [
    "This simple model predicts $M_\\star$, $M_{\\rm gas}$, $Z$ for a total mass $M=10^{12}\\ M_\\odot$ halo within a factor of $2-4$ of the Milky Way values. So suprisingly reasonable! However... It predicts linear relation of $M_\\star\\propto M_{\\rm halo}$, which is grossly inconsistent with what we know from comparing shapes of $dn/d\\ln M_\\star$ and $dn/d\\ln M$. \n",
    "\n",
    "<center>\n",
    "<img width=\"800\" align=\"center\" src=\"img/mhms_simple_no_am.png\"></img>\n",
    "</center>\n"
   ]
  },
  {
   "cell_type": "markdown",
   "metadata": {
    "slideshow": {
     "slide_type": "slide"
    }
   },
   "source": [
    "Real galaxies cannot have such linear relation. Otherwise, shape and evolution of stellar mass function and halo mass function would be very similar. But this is not the case (see exercises of the practical session II, <a href=\"ex02.ipynb\">ex02.ipynb</a>). \n",
    "\n",
    "<center>\n",
    "<img width=\"1000\" align=\"center\" src=\"img/smf_hmf_evo.png\"></img>\n",
    "</center>"
   ]
  },
  {
   "cell_type": "markdown",
   "metadata": {
    "slideshow": {
     "slide_type": "slide"
    }
   },
   "source": [
    "Real galaxies forming within CDM model must have the $M_\\star-M_{\\rm h}$ relation like this in order to reconcile observed stellar mass function of galaxies and predicted halo mass function (this is derived in the 3rd exercise of the practical session II, <a href=\"ex02.ipynb\">ex02.ipynb</a>). \n",
    "\n",
    "<center>\n",
    "<img width=\"900\" align=\"center\" src=\"img/msmh_fs_obs_evo.png\"></img>\n",
    "</center>\n"
   ]
  },
  {
   "cell_type": "markdown",
   "metadata": {
    "slideshow": {
     "slide_type": "slide"
    }
   },
   "source": [
    "$M_\\star-M_{\\rm halo}$ relation obtained from matching stellar mass and halo mass functions along with observational constraints (<a href=\"http://adsabs.harvard.edu/abs/2018AstL...44....8K\">Kravtsov et al. 2018</a>)\n",
    "\n",
    "<br>\n",
    "<center>\n",
    "<img width=\"700\" align=\"center\" src=\"img/msmh_am_data_k18.PNG\"></img>\n",
    "</center>\n"
   ]
  },
  {
   "cell_type": "markdown",
   "metadata": {
    "slideshow": {
     "slide_type": "slide"
    }
   },
   "source": [
    "### Galaxy formation modelling\n",
    "\n",
    "aims to understand which processes drive evolution of observable properties of galaxies ($M_\\star$, $M_{\\rm g}$, $Z$, etc.) and, in particular, why $f_\\star=M_\\star/M_h$ is much smaller than $1$ and why it is so strongly peaked at $M_h\\sim 10^{12}-10^{13}\\ M_\\odot$.\n",
    "\n",
    "Two main approaches: \n",
    "\n",
    "* Semi-analytic models that formulate the problem as a system of ODEs for relevant quantities\n",
    "\n",
    "\n",
    "* Comological simulations that follow evolution of both baryons and dark matter, and include processes relevant for galaxy formation (cooling, heating, star formation, feedback...)"
   ]
  },
  {
   "cell_type": "markdown",
   "metadata": {
    "slideshow": {
     "slide_type": "slide"
    }
   },
   "source": [
    "###  Hydro$+N-$ body cosmological simulations of galaxy formation \n",
    "\n",
    "Can, in principle, include complexities of gravitational collapse and heating and cooling of the gas. Temperature map and velocity field of gas around a galaxy at $z=4$ forming in a $\\Lambda$CDM model\n",
    "\n",
    "<center>\n",
    "<img width=\"650\" align=\"center\" src=\"img/cold_flows_k03.png\"></img>\n",
    "</center>\n"
   ]
  },
  {
   "cell_type": "markdown",
   "metadata": {
    "slideshow": {
     "slide_type": "slide"
    }
   },
   "source": [
    "###  Hydro$+N-$ body cosmological simulations of galaxy formation \n",
    "\n",
    "However, modeling complexity by itself is ***not sufficient to get things right.***\n",
    "\n",
    "<br>\n",
    "<center>\n",
    "<img width=\"900\" align=\"center\" src=\"img/msmh_sims_linear.png\"></img>\n",
    "</center>\n"
   ]
  },
  {
   "cell_type": "markdown",
   "metadata": {
    "slideshow": {
     "slide_type": "slide"
    }
   },
   "source": [
    "###  Nevertheless... Many recent hydro$+N-$ body cosmological simulations are quite successful  \n",
    "\n",
    "in reproducing $M_\\star-M_{\\rm halo}$ relation indicated by the observed shape of stellar mass function\n",
    "\n",
    "<center>\n",
    "<img width=\"1200\" align=\"center\" src=\"img/msmh_recent_sims.PNG\"></img>\n",
    "</center>\n"
   ]
  },
  {
   "cell_type": "markdown",
   "metadata": {
    "slideshow": {
     "slide_type": "slide"
    }
   },
   "source": [
    "Lines = stellar mass function in recent EAGLE simulation suite (<a href=\"https://ui.adsabs.harvard.edu/abs/2015MNRAS.446..521S/abstract\">Schaye et al. 2015</a>) run with different parameters, points - observations. Similar results for Illustris TNG (cf. Mark Vogelsberger's lecture earlier today). \n",
    "\n",
    "<center>\n",
    "<img width=\"800\" align=\"center\" src=\"img/eagle_smf.png\"></img>\n",
    "</center>\n"
   ]
  },
  {
   "cell_type": "markdown",
   "metadata": {
    "slideshow": {
     "slide_type": "slide"
    }
   },
   "source": [
    "### Recent simulations are quite good at reproducing diversity of observed galaxy morphologies\n",
    "\n",
    "Even though they were not tuned to do this... \n",
    "\n",
    "<center>\n",
    "<img width=\"1000\" align=\"center\" src=\"img/recent_sims_morphologies.png\"></img>\n",
    "</center>\n"
   ]
  },
  {
   "cell_type": "markdown",
   "metadata": {
    "slideshow": {
     "slide_type": "slide"
    }
   },
   "source": [
    "### Overall, great progress in galaxy formation modelling in the last ~6-7 years\n",
    "\n",
    "See reviews by <a href=\"\">Dave & Somerville (2015)</a>, <a href=\"https://ui.adsabs.harvard.edu/abs/2017ARA%26A..55...59N/abstract\">Naab & Ostriker 2017</a>.\n"
   ]
  },
  {
   "cell_type": "markdown",
   "metadata": {
    "slideshow": {
     "slide_type": "fragment"
    }
   },
   "source": [
    "* ***What is behind this process?***"
   ]
  },
  {
   "cell_type": "markdown",
   "metadata": {
    "slideshow": {
     "slide_type": "fragment"
    }
   },
   "source": [
    "* ***Can we understand what affects galaxy formation in simulations using an intuitive model?***"
   ]
  },
  {
   "cell_type": "markdown",
   "metadata": {
    "slideshow": {
     "slide_type": "fragment"
    }
   },
   "source": [
    "* ***What aspects are not yet understood?***"
   ]
  },
  {
   "cell_type": "markdown",
   "metadata": {
    "slideshow": {
     "slide_type": "slide"
    }
   },
   "source": [
    "### Processes most relevant for galaxy formation \n",
    "\n",
    "* ***Cooling:*** \n",
    "\n",
    "* ***Heating processes:*** (both before accretion onto galaxy and after)\n",
    "\n",
    "* ***Star formation*** \n",
    "\n",
    "* ***Injection of energy and momentum by massive stars and supermassive black holes (feedback) ***"
   ]
  },
  {
   "cell_type": "markdown",
   "metadata": {
    "slideshow": {
     "slide_type": "slide"
    }
   },
   "source": [
    "### Re-ionization of the universe \n",
    "\n",
    "At $z_{\\rm rec}\\approx 1100$ the electrons and ions recombined, which allowed photons we know detect as the Cosmic Microwave Background (CMB) to propagate freely. \n",
    "\n",
    "Observations show, however, that by $z\\approx 6$ intergalactic medium in the universe is ionized. So between $z=1100$ and $z\\approx 6$ the gas must have been *re-ionized*. The process is called *reionization* and is almost certainly due to the UV photons emitted by young massive stars in the first galaxies at these high redshifts. "
   ]
  },
  {
   "cell_type": "markdown",
   "metadata": {
    "slideshow": {
     "slide_type": "slide"
    }
   },
   "source": [
    "### Re-ionization of the universe and heating of the intergalactic gas\n",
    "\n",
    "The UV photons ionize neutral atoms and freed electrons carry extra energy which gets converted into gas temperature. Ionization by photons with spectrum typical of that of massive stars heats the gas to $T\\approx 5000-10000 K$. This heating raises the *Jeans mass* of the integalactic gas and leads to suppression of gas accretion onto halos with the \n",
    "\"virial\" temperature (where $R=R_\\Delta$; $M=M(<R_\\Delta)$):\n",
    "\n",
    "$$kT=\\mu m_p\\frac{GM}{R}$$\n",
    "\n",
    "less than the temperature of the gas. "
   ]
  },
  {
   "cell_type": "markdown",
   "metadata": {
    "slideshow": {
     "slide_type": "slide"
    }
   },
   "source": [
    "### Suppression of gas accretion on small-mass halos and \"filtering mass\" \n",
    "\n",
    "The mathematical formalism describing effect of such re-heating on the evolution of perturbations is presented in <a href=\"http://adsabs.harvard.edu/abs/2000ApJ...542..535G\">Gnedin (2000).</a> The quantitative effect on accretion of baryons on a collapsing peak is calibrated using\n",
    " numerical simulations of galaxy formation  (e.g., <a href=\"http://adsabs.harvard.edu/abs/2006MNRAS.371..401H\">Hoeft et al 2006</a>, <a href=\"http://adsabs.harvard.edu/abs/2008MNRAS.390..920O\">Okamoto et al 2008</a>). It predicts that baryon fractions in halos of mass $M$ at redshift $z$ is modified from a constant value $\\bar{f}_{\\rm b}$ as:\n",
    "\n",
    "$$\n",
    " f_{\\rm b}(M,z)=\\bar{f}_{\\rm b}\\left\\{1+(2^{\\alpha/3-1}-1)\\left[\\frac{M}{M_{\\rm c}(z)}\\right]^{-\\alpha}\\right\\}^{-3/\\alpha},\n",
    "$$\n",
    " \n",
    "with $\\alpha=2$. "
   ]
  },
  {
   "cell_type": "markdown",
   "metadata": {
    "slideshow": {
     "slide_type": "slide"
    }
   },
   "source": [
    "Baryon fraction in halos of different mass before and after reionization ($z_{\\rm rei}\\approx 6$; <a href=\"http://adsabs.harvard.edu/abs/2008MNRAS.390..920O\">Okamoto et al (2008)</a>). The yellow lines show parameterization from the previous slide. \n",
    "\n",
    "<center>\n",
    "<img width=\"900\" align=\"center\" src=\"img/fb_uv_okamoto09.png\"></img>\n",
    "</center>"
   ]
  },
  {
   "cell_type": "markdown",
   "metadata": {
    "slideshow": {
     "slide_type": "slide"
    }
   },
   "source": [
    "The cutoff mass $M_{\\rm c}$ is derived from simulations of galaxy formation.\n",
    "For example, $M_{\\rm c}(z)$, in figures of <a href=\"http://adsabs.harvard.edu/abs/2008MNRAS.390..920O\">Okamoto et al (2008)</a>\n",
    "is well approximated by the following formula:\n",
    "\n",
    "$$\n",
    "    M_{\\rm c}(z) = 6\\times 10^9h^{-1}\\ M_\\odot\\,\\exp(-0.63z),\\ \\ \\mathrm{for}\\ z<9,\n",
    "$$\n",
    "\n",
    "while $M_{\\rm c}$ can be assumed to be $\\approx 10^5-10^6h^{-1}\\ M_\\odot$ at $z>9$, because temperature of the gas is much smaller before reionization.  "
   ]
  },
  {
   "cell_type": "markdown",
   "metadata": {
    "slideshow": {
     "slide_type": "slide"
    }
   },
   "source": [
    "### Including this effect in the simple galaxy formation model \n",
    "\n",
    "of gas accretion due to UV heating after reionization (shown yesterday). \n",
    "\n",
    "Suppression of gas accretion is implemented using this formula in the variant of the galaxy formation model via $f_{\\rm b,in}$ factor in the new model called <tt>gmodel_UVheating</tt> in <a href=\"codes/galaxy_model.py\">codes/galaxy_model.py</a>\n",
    "\n",
    "$$\n",
    " f_{\\rm b, in}(M,z)=\\bar{f}_{\\rm b}\\left\\{1+(2^{\\alpha/3-1}-1)\\left[\\frac{M}{M_{\\rm c}(z)}\\right]^{-\\alpha}\\right\\}^{-3/\\alpha},\n",
    "$$\n",
    "\n",
    "$$\\dot{M}_{\\rm b,acc}= f_{\\rm b,acc}\\,\\dot{M}=f_{\\rm b,uni}\\,f_{\\rm b,in}\\dot{M},\n",
    "$$"
   ]
  },
  {
   "cell_type": "code",
   "execution_count": 5,
   "metadata": {
    "slideshow": {
     "slide_type": "slide"
    }
   },
   "outputs": [],
   "source": [
    "# implementation of such process in the model consists simply of adding a module\n",
    "# all other routines and properties are inherited from the earlier basic model\n",
    "\n",
    "from codes.galaxy_model import model_galaxy\n",
    "\n",
    "class gmodel_UVheating(model_galaxy):\n",
    "    def __init__(self, *args, **kwargs):\n",
    "\n",
    "        super(gmodel_UVheating, self).__init__(*args, **kwargs)\n",
    "        return\n",
    "       \n",
    "    def UV_cutoff(self, z):\n",
    "        \"\"\"\n",
    "        approximation to the cutoff mass in Fig 3 of Okamoto, Gao & Theuns 2008 \n",
    "        \"\"\"\n",
    "        dummy = np.zeros_like(z)\n",
    "        dummy[z>9] = 1.e6\n",
    "        # expression approximatinng simulation results in Fig. 3 of Okamoto+ 2008\n",
    "        dummy[z<=9] = 6.e9*np.exp(-0.63*z[z<9]) / self.cosmo.h\n",
    "        return  1.0/(1.0+(2.**(2./3.)-1.)*(dummy/self.Mh)**2)**(1.5)\n",
    "\n",
    "    def fg_in(self,t):\n",
    "        zd = self.cosmo.age(t, inverse=True)\n",
    "        return self.UV_cutoff(zd)\n"
   ]
  },
  {
   "cell_type": "markdown",
   "metadata": {
    "slideshow": {
     "slide_type": "slide"
    }
   },
   "source": [
    "For reference: $M_\\star-M_{\\rm halo}$ relation in the basic galaxy formation model without inclusion of gas accretion suppression due to UV heating after reionization (shown yesterday). \n",
    "\n",
    "<center>\n",
    "<img width=\"600\" align=\"center\" src=\"img/mhms_simple.png\"></img>\n",
    "</center>\n"
   ]
  },
  {
   "cell_type": "markdown",
   "metadata": {
    "slideshow": {
     "slide_type": "slide"
    }
   },
   "source": [
    "<center>\n",
    "<img width=\"600\" align=\"center\" src=\"img/mhms_uvheating.png\"></img>\n",
    "</center>\n"
   ]
  },
  {
   "cell_type": "markdown",
   "metadata": {
    "slideshow": {
     "slide_type": "slide"
    }
   },
   "source": [
    "### Cooling processes\n",
    "\n",
    "Unlike dark matter, baryons can radiate away the internal energy they acquire during gravitational collapse thanks to many cooling processes:\n",
    "\n",
    "* <b>Free-free emission (aka brehmsstrahlung)</b>  produced by charged particles moving in the EM field of other changed particles - e.g., electron moving past a proton.\n",
    "\n",
    "* <b>bound-bound emission</b>: electron transitions from level to level in atoms and ions. As atoms or ions (with bound electrons present) absorb photons or bump into each other, electron(s) can get excited to higher energy levels. Subsequent decay back to ground state and emission of photon(s). If plasma has low optical depth to emitted photons, they will leave the system, carrying the energy with them.\n",
    "\n",
    "* <b>free-bound emission</b> when an electron recombines with an ion. \n",
    "\n",
    "* <b>Compton cooling</b>, in which the electrons scatter off the CMB photons which have low energy due to redshifting at the redshifts relevant for galaxies.\n",
    "Free electrons must exist - i.e., gas must be at least partially ionized - for the Compton cooling to operate.\n"
   ]
  },
  {
   "cell_type": "markdown",
   "metadata": {
    "slideshow": {
     "slide_type": "slide"
    }
   },
   "source": [
    "### Cooling functions\n",
    "\n",
    "Combined cooling rate due to various processes of gas of a given metallicity illuminated by a certain radiation field are tabulated via the *cooling function* $\\Lambda$:\n",
    "\n",
    "$$\\Lambda(T,Z,...)= \\frac{\\mathcal{L}}{n^2},$$\n",
    "\n",
    "where $\\mathcal{L}$ is the cooling rate in, say, ergs per second. The scaling with $n^2$ because most cooling processes are due to collisions of baryon particles and thus depend on $n^2$. "
   ]
  },
  {
   "cell_type": "markdown",
   "metadata": {
    "slideshow": {
     "slide_type": "slide"
    }
   },
   "source": [
    "### Cooling processes in the primordial (zero metallicity) gas\n",
    "\n",
    "This is Figure 1 from <a href=\"http://adsabs.harvard.edu/abs/1997ApJ...477....8W\">Weinberg et al. (1997)</a>:\n",
    "\n",
    "<center>\n",
    "<img src=\"img/weinberg_etal97_cool_func_fig1.png\" width=\"500\"></img>\n",
    "</center>\n"
   ]
  },
  {
   "cell_type": "markdown",
   "metadata": {},
   "source": [
    "### Cooling processes in gas enriched with heavy elements (Z>0)\n",
    "\n",
    "As gas gets enriched with heavy elements, the number of different ions present and possible processes of their mutual interactions becomes large. Here is a figure from <a href=\"http://adsabs.harvard.edu/abs/2009MNRAS.393...99W\">Wiersma et al. (2008)</a> (see also $\\Lambda$ and $H$ tables and movies <a href=\"http://www.strw.leidenuniv.nl/WSS08\">here</a>)\n",
    "\n",
    "<img src=\"img/wiersma08_Lambda_Z_dependence.png\" width=\"500\"></img>"
   ]
  },
  {
   "cell_type": "markdown",
   "metadata": {
    "slideshow": {
     "slide_type": "skip"
    }
   },
   "source": [
    "### Cooling and heating function tables\n",
    "\n",
    "It is possible to follow reaction rate for dozens, or even hundreds, of atoms and ions and to track their abundance in a model (e.g., <a href=\"http://adsabs.harvard.edu/abs/2014MNRAS.442.2780R\">Richings et al. 2014</a>), but this is most often is not necessary because gas is often in the collisional and ionization equilibrium. Thus, such equilibrium can be assumed and the rates can be pre-computed into interpolation table as a function of metallicity, UV background intensity, and gas density,  using a plasma emission code, such as <a href=\"http://www.nublado.org/\">Cloudy</a>.\n",
    "\n",
    "Given that cooling rates depend trivially on $n^2$, the actual tabulated quantity is so-called *cooling function*: $\\Lambda(T,Z,...)\\equiv \\mathcal{L}/n^2$. "
   ]
  },
  {
   "cell_type": "markdown",
   "metadata": {
    "slideshow": {
     "slide_type": "skip"
    }
   },
   "source": [
    "### Cooling and heating functions: $Z=0$ vs $Z=Z_\\odot$\n",
    "\n",
    "Cooling and heating functions for the primordial metallicity ($Z=M_{\\rm Z}/M_{\\rm gas}=0$) and solar metallicity, $Z=Z_\\odot=0.02$ and for two gas densities: $n=10^{-3}\\ \\mathrm{cm^{-3}}$ (left) and $n=10\\ \\mathrm{cm^{-3}}$ (right). \n",
    "The heating rate is due to cosmic UV background estimated at $z=0$. \n",
    "\n",
    " The plotted functions were generated using accurate approximations of  <a href=\"http://www.nublado.org/\">Cloudy code</a> calculations by <a href=\"http://adsabs.harvard.edu/abs/2012ApJS..202...13G\">Gnedin & Hollon (2012)</a>. You will find the code that reads the tables and produces this plot in this notebook. \n",
    "\n",
    "<img src=\"img/chf.png\" width=\"600\"></img>"
   ]
  },
  {
   "cell_type": "markdown",
   "metadata": {
    "slideshow": {
     "slide_type": "slide"
    }
   },
   "source": [
    "### Cooling time\n",
    "\n",
    "*The cooling time* is a characteristic time scale over which plasma loses its internal energy: $\\dot{e}=e/t_{\\rm cool}$, where $\\dot{e}=n^2(H-L)$ is the net rate of heating/cooling. \n",
    "The cooling time also depends on the physical gas density: $n(r)=\\rho_{\\rm gas}(r)/(\\mu m_p)=f_{\\rm gas}\\rho_{\\rm tot}/(\\mu m_p)$, where the mean molecular weight for ionized plasma is $\\mu\\approx 0.6$ and $m_p=1.67262\\times 10^{-24}\\ \\rm g$ is the mass of proton: \n",
    "\n",
    "$$\n",
    "t_{\\rm cool}=\\frac{e}{\\dot{e}}=\\frac{nkT}{(\\gamma-1)n^2(H-\\Lambda)},\n",
    "$$\n",
    "\n",
    "where $\\gamma$ is adiabatic index ($\\gamma=5/3$ for ionized plasma or atomic gas)."
   ]
  },
  {
   "cell_type": "markdown",
   "metadata": {
    "slideshow": {
     "slide_type": "slide"
    }
   },
   "source": [
    "### Heating and cooling of gas during collapse\n",
    "\n",
    "When gas accretes onto halos it has $T$ of a few thousand K (set by the cosmic UV background) which corresponds to sound speed: $c_s=\\sqrt{\\gamma kT/(\\mu m_p)}$ of a few km/s. However, it will achieve infall velocity of order halo circular velocity - i.e., $\\sim 200$ km/s for the Milky Way halo during collapse. Its motion, thus, will be highly supersonic. Supersonic flows generally quickly develop *shocks*. \n",
    "\n",
    "Shocks are discontinuities in flow properties - jumps of density, velocity, temperature, entropy - convert gas kinetic energy into internal energy via viscosity. \n",
    "\n",
    "Whether gas is able to retain the internal energy it acquires in this process depends on how quickly it can cool."
   ]
  },
  {
   "cell_type": "markdown",
   "metadata": {
    "slideshow": {
     "slide_type": "slide"
    }
   },
   "source": [
    "### \"Cold\" filamentary flows onto galaxy \n",
    "\n",
    "Temperature map and velocity field of gas around a galaxy at $z=4$ forming in a $\\Lambda$CDM model. The near free-fall of gas along filaments in the \"cold flow\" is a physical motivation for assuming that all gas upon accretion immediately falls onto ISM of the galaxy in the halo center. \n",
    "\n",
    "<center>\n",
    "<img width=\"650\" align=\"center\" src=\"img/cold_flows_k03.png\"></img>\n",
    "</center>\n"
   ]
  },
  {
   "cell_type": "markdown",
   "metadata": {
    "slideshow": {
     "slide_type": "slide"
    }
   },
   "source": [
    "Such \"cold flows\" are ubiquitous in galaxy formation simulations. A simulation with AREPO code (Nelson et al. 2015). \n",
    "\n",
    "<center>\n",
    "<img width=\"1200\" align=\"center\" src=\"img/cold_flows_nelson15.png\"></img>\n",
    "</center>\n"
   ]
  },
  {
   "cell_type": "markdown",
   "metadata": {
    "slideshow": {
     "slide_type": "slide"
    }
   },
   "source": [
    "### Cooling time as a function of halo mass\n",
    "\n",
    "Let's assume that gas gets shocked at the virial radius corresponding to density contrast of $\\Delta\\approx 200$ and reaches \"virial\" temperature of $T_\\Delta= \\mu m_p/k \\times GM_\\Delta/R_\\Delta$. We can compute the cooling time of gas for such density and temperature:\n",
    "\n",
    "$$\n",
    "t_{\\rm cool}=\\frac{e}{\\dot{e}}=\\frac{nkT}{(\\gamma-1)n^2(H-\\Lambda)}=\\frac{\\mu m_p}{(\\gamma-1)n_{\\Delta}(H-\\Lambda)}\\frac{GM_\\Delta}{R_\\Delta},\n",
    "$$\n",
    "\n",
    "where $n_{\\rm \\Delta}=\\Omega_b\\rho_{\\rm crit}(z)(1+{\\Delta})/(\\mu m_p)$ where $\\mu$ is the mean particle weight per proton mass $m_p$: $\\mu\\approx 0.6$ for fully ionized plasma. "
   ]
  },
  {
   "cell_type": "markdown",
   "metadata": {
    "slideshow": {
     "slide_type": "slide"
    }
   },
   "source": [
    "### Cooling time as a function of halo mass\n",
    "\n",
    "Here is a result of such calculation where I used definition of halo mass to be the mass enclosed within the radius within which density contrast is $\\Delta=200$.\n",
    "\n",
    "The figure shows that the cooling time is much smaller than the age of the universe for small mass halos, but becomes longer than the age of the universe for $M\\geq 10^{12}\\ M_\\odot$. Thus, the gas that accretes on such massive halos and gets shocked to the virial temperature cannot cool fast enough. This explains why we observe hot, X-ray emitting gas in groups and clusters of galaxies. \n",
    "\n",
    "<center>\n",
    "<img src=\"img/tcool_M200c.png\" align=\"center\" width=\"500\"></img>\n",
    "</center>"
   ]
  },
  {
   "cell_type": "markdown",
   "metadata": {
    "slideshow": {
     "slide_type": "slide"
    }
   },
   "source": [
    "### Effects of feedback from Active Galactic Nuclei (AGN), SNIa, and AGB stars\n",
    "\n",
    "AGNs in massive galaxies are observed to inject jets and inflate bubbles filled with hot, X-ray emitting gas and cosmic rays into surrounding halo (see <a href=\"https://ui.adsabs.harvard.edu/abs/2012NJPh...14e5023M/abstract\">McNamara & Nulsen 2012</a> for a review). They are thought to be responsible for prevening cooling in the inner hot halo, once hot halo forms. In addition, in spheroidal galaxies supernovae type Ia and AGB stars may contribute to heating gas in the inner regions (e.g., <a href=\"http://adsabs.harvard.edu/abs/2015ApJ...803...77C\">Conroy et al. 2015</a>)\n",
    "\n",
    "***How these processes operate in real galaxies is not yet understood in detail.*** \n",
    "\n",
    "\n",
    "<center>\n",
    "<img src=\"img/cenA_multi_l.jpg\" align=\"center\" width=\"700\"></img>\n",
    "</center>\n",
    "\n"
   ]
  },
  {
   "cell_type": "markdown",
   "metadata": {
    "slideshow": {
     "slide_type": "slide"
    }
   },
   "source": [
    "### Including suppression of gas cooling and accretion at large $M$ into the model\n",
    "\n",
    "The suppression of cooling in halos of $M\\geq 10^{12}\\ M_\\odot$ means that assumption made in the simple model that all gas immediately joins galaxy ISM when it is accreted onto halo is incorrect in this regime. \n",
    "\n",
    "We can modify the model by suppressing gas accretion once halo mass becomes larger than $\\approx 10^{12}\\ M_\\odot$ again via $f_{\\rm b,in}$ factor in the new model called <tt>gmodel_heating</tt> in <a href=\"codes/galaxy_model.py\">codes/galaxy_model.py</a> that inherits from class <tt>gmodel_UVheating</tt>\n",
    "\n",
    "$$\n",
    " f_{\\rm b, in}(M,z)=\\bar{f}_{\\rm b}\\left\\{1+(2^{\\alpha/3-1}-1)\\left[\\frac{M}{M_{\\rm c}(z)}\\right]^{-\\alpha}\\right\\}^{-3/\\alpha}\\times \\left\\{1+(2^{\\alpha/3-1}-1)\\left[\\frac{M}{M_{\\rm hot}(z)}\\right]^{-\\alpha}\\right\\}^{-3/\\alpha},\n",
    "$$\n",
    "\n",
    "$$\\dot{M}_{\\rm b,acc}= f_{\\rm b,acc}\\,\\dot{M}=f_{\\rm b,uni}\\,f_{\\rm b,in}\\dot{M},\n",
    "$$"
   ]
  },
  {
   "cell_type": "markdown",
   "metadata": {
    "slideshow": {
     "slide_type": "slide"
    }
   },
   "source": [
    "### Resulting $M_\\star-M_{\\rm halo}$ looks like this\n",
    "\n",
    "It looks incorrect at large masses, but it's actually ok, because we don't model stellar mass growth due to mergers in this simple model and at large mass galaxies should merge with other galaxies that bring stellar mass. In fact, most stellar mass in massive galaxies is thought to be brought in through such mergers. \n",
    "\n",
    "<br>\n",
    "<center>\n",
    "<img src=\"img/mhms_UV_mhot.png\" align=\"center\" width=\"500\"></img>\n",
    "</center>\n",
    "\n"
   ]
  },
  {
   "cell_type": "markdown",
   "metadata": {
    "slideshow": {
     "slide_type": "slide"
    }
   },
   "source": [
    "### Feedback from young massive stars in star-forming galaxies\n",
    "\n",
    "When galaxies form new stars, a fraction of them forms in massive stars. Such stars inject large amounts of momentum and energy into surrounding ISM as they drive winds due to intense radiation and as they explode as supernovae. So much momentum and energy cn be injected into the ISM that gas may become unbound and driven out of the galaxy in an **outflow** or **wind**. \n",
    "\n",
    "M82 galaxy in multi-wavelength observations:\n",
    "\n",
    "<br>\n",
    "<center>\n",
    "<img src=\"img/m82_multil.png\" align=\"center\" width=\"500\"></img>\n",
    "</center>\n"
   ]
  },
  {
   "cell_type": "markdown",
   "metadata": {
    "slideshow": {
     "slide_type": "slide"
    }
   },
   "source": [
    "### Wind outflows\n",
    "\n",
    "Physical processes that drive winds is a subject of active ongoing research and are not understood in detail. . \n",
    "However, we know now that winds do arise when we include energy and momentum injection (+cosmic rays) from young stars consistent with expectations from the models of stellar populations. \n",
    "\n",
    "Simulations and basic considerations also give us some idea of how winds should arise and how they should scale with halo/galaxy properties.\n",
    "\n",
    "First, because winds are driven by young stars the rate should be a function of star formation rate. The simplest model: \n",
    "\n",
    "$$\\dot{M}_{\\rm g,out} = \\eta \\dot{M}_\\star.$$"
   ]
  },
  {
   "cell_type": "markdown",
   "metadata": {
    "slideshow": {
     "slide_type": "fragment"
    }
   },
   "source": [
    "With can then include outflows in our simple galaxy formation model by including a term into ODE for evolution of ISM gas mass:\n",
    "\n",
    "$$\n",
    "\\dot{M}_{\\rm g}=\\dot{M}_{\\rm b,acc} - (1-\\mathcal{R})\\dot{M}_{\\star} - \\eta\\,\\dot{M}_\\star. $$\n"
   ]
  },
  {
   "cell_type": "markdown",
   "metadata": {
    "slideshow": {
     "slide_type": "slide"
    }
   },
   "source": [
    "Recent simulations of galaxy formation have started to calibrate the mass loading factor $eta$. In particular, <a href=\"http://adsabs.harvard.edu/abs/2015MNRAS.454.2691M\">Muratov et al. (2015)</a> report that the loading factor has simple scaling with stellar mass in their simulations: \n",
    "\n",
    "$$\\eta=3.6\\,M_{*,10}^{-0.35}$$\n",
    "\n",
    "where $M_{*,10}$ is galaxy current stellar mass in units of $10^{10}\\ M_\\odot$. \n",
    "\n",
    "A more recent study by   <a href=\"https://ui.adsabs.harvard.edu/abs/2017MNRAS.470.4698A/abstract\">Angles-Alcazar et al. (2017)</a> shows that $\\eta$ does not continue as a power law to large halo masses but drops quickly at $M_{\\rm halo} \\geq 5\\times 10^{11}\\ M_\\odot$, the behavior that can be approximated by \n",
    "\n",
    "$$\\eta=\\max(0,\\ 3.6\\,M_{*,10}^{-0.35}-2.5).$$\n"
   ]
  },
  {
   "cell_type": "markdown",
   "metadata": {
    "slideshow": {
     "slide_type": "slide"
    }
   },
   "source": []
  },
  {
   "cell_type": "code",
   "execution_count": 60,
   "metadata": {
    "slideshow": {
     "slide_type": "skip"
    }
   },
   "outputs": [
    {
     "data": {
      "image/png": "[encoded data removed]",
      "text/plain": [
       "<Figure size 437.5x437.5 with 1 Axes>"
      ]
     },
     "metadata": {
      "needs_background": "light"
     },
     "output_type": "display_data"
    }
   ],
   "source": [
    "lm = np.linspace(5., 15., 100)\n",
    "ms = 10.**lm\n",
    "\n",
    "eta = np.maximum(1.e-20, 3.6*(ms/1.e10)**(-0.35)-2.5)\n",
    "\n",
    "plt.figure(figsize=(2.5,2.5))\n",
    "plt.xscale('log'); plt.yscale('log')\n",
    "plt.xlabel(r'$M_\\star$'); plt.ylabel(r'$\\eta$')\n",
    "plt.xlim(1.e5,1e11); plt.ylim(1.e-1, 1.e3)\n",
    "plt.plot(ms, eta,  c='slateblue', lw=2.0, label=r'$\\mathrm{modified\\ Muratov\\ model}$')\n",
    "\n",
    "plt.grid(linestyle='dotted', c='lightgray')\n",
    "plt.legend(frameon=False, loc='upper left', fontsize=8)\n",
    "plt.show()"
   ]
  },
  {
   "cell_type": "markdown",
   "metadata": {
    "slideshow": {
     "slide_type": "slide"
    }
   },
   "source": [
    "### Results from the model with wind \n",
    "\n",
    "Using $\\eta=\\max(0,\\ 3.6\\,M_{*,10}^{-0.35}-2.5)$ the model gives the $M_\\star-M_{\\rm halo}$ relation below. Note that it now not only reproduces the slope of the relation at small masses, but also the fact that the relation evolves little with redshift.\n",
    "\n",
    "\n",
    "<br>\n",
    "<center>\n",
    "<img src=\"img/mhms_UV_mhot_m15wind.png\" align=\"center\" width=\"800\"></img>\n",
    "</center>\n"
   ]
  },
  {
   "cell_type": "markdown",
   "metadata": {
    "slideshow": {
     "slide_type": "slide"
    }
   },
   "source": [
    "### Recall that \n",
    "\n",
    "observed evolution of stellar mass function and predicted evolution of halo mass function imply the following evolution of $M_\\star-M_{\\rm h}$ with redshift.\n",
    "\n",
    "<center>\n",
    "<img width=\"900\" align=\"center\" src=\"img/msmh_fs_obs_evo.png\"></img>\n",
    "</center>\n"
   ]
  },
  {
   "cell_type": "markdown",
   "metadata": {
    "slideshow": {
     "slide_type": "skip"
    }
   },
   "source": [
    "### Understanding the wind outflows scaling: energy-driven wind model\n",
    "\n",
    "Although $\\eta =3.6M_{*,10}^{-0.35}$ is a fit to simulation results, we can understand its basic scaling as follows.\n",
    "\n",
    "The rate with which young stars inject energy into ISM is $\\dot{E}_{\\rm SN}\\propto \\dot{M}_\\star$. \n",
    "Suppose that it is this injected energy that unbinds the gas and drives in an outflow. The assumption that energy injection (as opposed to momentum kicks) drives the gas results in ***energy-driven wind model***. "
   ]
  },
  {
   "cell_type": "markdown",
   "metadata": {
    "slideshow": {
     "slide_type": "skip"
    }
   },
   "source": [
    "Suppose that this energy injection is efficient in unbinding the gas and driving it out, which means that \n",
    "\n",
    "$$\\dot{E}_{\\rm SN}\\propto\\dot{M}_\\star\\propto \\dot{M}_{\\rm g, out}V^2_{\\rm out}$$\n",
    "\n",
    "The outflow velocity, $V_{\\rm out}$, will be determined by the mass of ISM gas into which supernova energy is deposited and can fluctuate. However, one can make an argument that when winds are capable of driving the gas out of potential well of the system, *on average* it should be of order of escape velocity, $V_{\\rm esc}=\\sqrt{-2\\Phi}=\\sqrt{2} V_{\\rm circ}\\propto M_{\\rm h}/R_{\\rm h}$, i.e. \n",
    "\n",
    "$$\\dot{E}_{\\rm SN}\\propto \\dot{M}_{\\rm g, out} \\frac{M_{\\rm h}}{R_{\\rm h}}\\propto \\dot{M}_{\\rm g, out}\\, M^{2/3}_{\\rm h},$$\n",
    "\n",
    "where we use the fact that mass and radius of the halo are related by definition of the radius: $M_{\\rm h}\\propto R_h^3$. "
   ]
  },
  {
   "cell_type": "markdown",
   "metadata": {
    "slideshow": {
     "slide_type": "skip"
    }
   },
   "source": [
    "The energy injected by supernova into ISM of galaxies is $E_{\\rm SN}\\simeq\\epsilon_{\\rm SN}\\nu_{\\rm SN} M_\\star$ (true for a fixed initial mass function, IMF), where $\\epsilon_{\\rm SN}$ is the energy per supernova that is transferred to the ISM after radiative losses during expansion stage of the remnant bubbles, $\\nu_{\\rm SN}$ is the number of supernovae per solar mass of stars, which is $\\nu_{\\rm SN}\\approx 0.01-0.02$ for normal stellar populations. Computer simulations of the supernovae remnants (e.g., <a href=\"http://adsabs.harvard.edu/abs/2015ApJ...802...99K\">Kimm & Ostriker 2015</a>, <a href=\"http://adsabs.harvard.edu/abs/2015MNRAS.450..504M\">Martizzi et al 2015</a>) show that $\\epsilon_{\\rm SN}\\sim 10^{49}$ ergs, i.e., about 1 per cent of the original explosion energy remains after cooling losses.\n"
   ]
  },
  {
   "cell_type": "markdown",
   "metadata": {
    "slideshow": {
     "slide_type": "skip"
    }
   },
   "source": [
    "### Energy-driven wind model cont'd\n",
    "\n",
    "Why can we assume $V_{\\rm out}\\sim V_{\\rm esc}$ on average? After all, supernovae energy injection does not have to \"know\" or \"respect\" the halo binding energy. The main reason is that if energy injection rate is much smaller than binding energy, the gas will accumulate and SFR will increase, while if it is much larger than the binding energy, ISM gas will be driven quickly in the wind. Thus, on average the galaxy should evolve with driving winds with energy close to the halo binding energy. "
   ]
  },
  {
   "cell_type": "markdown",
   "metadata": {
    "slideshow": {
     "slide_type": "skip"
    }
   },
   "source": [
    "With this key assumption we have\n",
    "\n",
    "$$\\eta=\\frac{\\dot{M}_{\\rm g, out}}{\\dot{M}_\\star}\\propto M_{\\rm h}^{-2/3}.$$\n",
    "\n",
    "Likewise, throughout the evolution efficient wind driving implies: $M_\\star\\propto E_{\\rm SN}\\simeq M_{\\rm g,tot}\\,V^2_{\\rm out}$, where $M_{\\rm g,tot}\\propto M_{\\rm h}$ is the gas mass that was accreted onto galaxy throughout its evolution. \n",
    "\n",
    "Thus, \n",
    "\n",
    "$$M_\\star\\propto M_{\\rm h}V^2_{\\rm out}\\propto M_{\\rm h}\\frac{M_{\\rm h}}{R_{\\rm h}}\\propto M_{\\rm h}\\,M_{\\rm h}^{2/3}\\propto M_{\\rm h}^{5/3}$$\n",
    "\n",
    "and so the mass loading factor should scale as \n",
    "\n",
    "$$\\eta\\propto M_{\\rm h}^{-2/3}\\propto M_\\star^{-2/5}\\propto M_\\star^{-0.4},$$\n",
    "\n",
    "which is quite close to the scaling $\\eta\\propto M_{\\star}^{-0.35}$ measured in simulations by <a href=\"http://adsabs.harvard.edu/abs/2015MNRAS.454.2691M\">Muratov et al. (2015).</a> \n",
    "\n",
    "Given that this scaling was derived assuming that feedback imparts *energy* required for unbinding the gas (this energy can be in the form of kinetic energy or thermal energy - the form of energy does not matter), the scaling is called *the energy-driven wind solution.*"
   ]
  },
  {
   "cell_type": "markdown",
   "metadata": {
    "slideshow": {
     "slide_type": "skip"
    }
   },
   "source": [
    "### Momentum-driven wind model\n",
    "\n",
    "We can use a similar argument, but assume that gas escapes because it acquired momentum (injected by young stars via winds and supernova remnants) that corresponds to velocity larger than escape velocity from the potential: \n",
    "\n",
    "$$\\dot{p}_{\\rm SN}\\propto\\dot{M}_\\star\\propto \\dot{M}_{\\rm g, out}V\\propto \\dot{M}_{\\rm g, out} \\left(\\frac{M_{\\rm h}}{R_{\\rm h}}\\right)^{1/2}\\propto \\dot{M}_{\\rm g, out}\\, M^{1/3}_{\\rm h},$$\n",
    "\n",
    "where $V$ is now escape velocity, $V=\\sqrt{-2\\Phi}=\\sqrt{2GM/R}$, which measures the depth of the potential out of which gas has to climb out, and $M_{\\rm h}\\propto R_h^3$ are the halo mass and radius. Thus, \n",
    "\n",
    "$$\\eta=\\frac{\\dot{M}_{\\rm g, out}}{\\dot{M}_\\star}\\propto M_{\\rm h}^{-1/3}.$$\n",
    "\n",
    "Likewise, throughout the evolution efficient wind driving implies: $M_\\star\\propto p_{\\rm SN}\\simeq M_{\\rm g}\\,V$, where $M_{\\rm g}\\propto M_{\\rm h}$ is the gas mass that was accreted onto galaxy throughout its evolution. \n",
    "\n",
    "Then, $\\chi=M_\\star/M_{\\rm g}\\propto V\\propto \\sqrt{M_{\\rm h}/R_{\\rm h}}\\propto M^{1/3}_{\\rm h}\\propto \\chi^{-1/3}M_\\star^{1/3}$ and thus $\\chi\\propto M_\\star^{1/4}$. The relation between stellar mass and halo mass is thus:\n",
    "$$\n",
    "M_\\star\\propto M^{4/3}\\propto M^{1.33}.\n",
    "$$\n",
    "and so the mass loading factor should scale as \n",
    "\n",
    "$$\\eta\\propto M_{\\rm h}^{-1/3}\\propto M_\\star^{-1/4}\\propto M_\\star^{-0.25},$$\n",
    "\n",
    "i.e., shallower than in the energy-driven wind model. "
   ]
  },
  {
   "cell_type": "markdown",
   "metadata": {
    "slideshow": {
     "slide_type": "slide"
    }
   },
   "source": [
    "### Summary: take away points\n",
    "\n",
    "Simulations and phenomenological models over the past 20+ years showed that the following processes are critical for formation of galaxies with properties similar to observed ones:\n",
    "\n",
    "* Cooling of gas: it allows gas to dissipate the kinetic energy it acquires during collapse, sink to the center of the halo and form stars.\n",
    "\n",
    "* Heating: heating by UV and X-ray radiation mediates temperature of intergalactic has and can suppress accretion of gas onto galaxies in halos $\\geq 10^9-10^{10}\\ M_\\odot$ (e.g., it probably strongly affects properties of dwarf satellites of the Milky Way and Andromeda galaxies."
   ]
  },
  {
   "cell_type": "markdown",
   "metadata": {
    "slideshow": {
     "slide_type": "slide"
    }
   },
   "source": [
    "### Summary: take away points\n",
    "\n",
    "* Dynamical heating by shocks during collapse can heat the gas to high temperatures. In halos of $M\\leq 5\\times 10^{11}\\ M_\\odot$ this energy is quickly radiated away and gas free-falls onto central galaxies. In halos of larger mass cooling becomes too slow and such halos can maintain hot gaseous halos around central galaxies.\n",
    "\n",
    "* Feedback by AGNs and evolved stars (SN Ia and AGB)  is thought to prevent gas from cooling in the inner regions of such hot gaseous halos, where gas density is larger. This feedback prevents gas accretion in massive systems, which suppresses star formation and makes these galaxies \"red and dead\" at low $z$. \n",
    "\n",
    "* Energy and momentum injection by young massive stars (stellar feedback) is *critical* for producing galaxies with realistic properties. It shapes them by driving outflows, which become progressively more efficient in halos of smaller mass. "
   ]
  },
  {
   "cell_type": "markdown",
   "metadata": {
    "slideshow": {
     "slide_type": "slide"
    }
   },
   "source": [
    "### Remaining challenges and areas of active research\n",
    "\n",
    "See also Mark Vogelsberger's lecture where this was discussed in more detail\n",
    "\n",
    "* Understanding physical processes via which stellar and AGN feedback affects gas and launches outflows. Effect of radiation transfer, radiation pressure, and cosmic rays is being actively explored now. \n",
    "\n",
    "* Understanding how possible deviations from assumptions of CDM affect properties of galaxies (e.g., self-interacting dark matter models). "
   ]
  },
  {
   "cell_type": "markdown",
   "metadata": {
    "slideshow": {
     "slide_type": "slide"
    }
   },
   "source": [
    "## Thank you for your attention\n",
    "\n",
    "Now on to the last practical session for this topic after the coffee break. "
   ]
  },
  {
   "cell_type": "markdown",
   "metadata": {
    "slideshow": {
     "slide_type": "skip"
    }
   },
   "source": [
    "### Codes and calculations used to produce some of the figures in this notebook."
   ]
  },
  {
   "cell_type": "code",
   "execution_count": 6,
   "metadata": {
    "slideshow": {
     "slide_type": "skip"
    }
   },
   "outputs": [],
   "source": [
    "from colossus.cosmology import cosmology\n",
    "\n",
    "# define a vector of cosmological parameters:    \n",
    "my_cosmo = {'flat': True, 'H0': 70.0, 'Om0': 0.3, 'Ob0': 0.045714, 'sigma8': 0.81, 'ns': 0.96}\n",
    "# set my_cosmo to be the current cosmology\n",
    "cosmo = cosmology.setCosmology('my_cosmo', my_cosmo)    "
   ]
  },
  {
   "cell_type": "code",
   "execution_count": 7,
   "metadata": {
    "slideshow": {
     "slide_type": "skip"
    }
   },
   "outputs": [],
   "source": [
    "import codes.galaxy_model as gm\n",
    "\n",
    "from scipy.interpolate import interp2d\n",
    "from scipy.integrate import odeint\n",
    "\n",
    "def compute_mass_grid(gmodel = None, Nz=81, Nm=60, Z_IGM=2.e-5, \n",
    "                      sfrmodel='gaslinear', tausf=2.0,  cosmo=None):\n",
    "    # grid of redshifts and halo masses\n",
    "    zg = np.linspace(30., 0., Nz)\n",
    "    lzg1 = np.log10(1.0+zg)\n",
    "    t_output = cosmo.age(zg)\n",
    "    \n",
    "    lMh = np.linspace(5.0, 8., Nm)\n",
    "    Mh  = np.power(10, lMh)\n",
    "\n",
    "    # arrays to hold evolutionary grids of halo mass, gas mass, stellar mass and metal mass\n",
    "    Mhout = np.zeros((Nm,Nz)); Mgout = np.zeros((Nm,Nz))\n",
    "    Msout = np.zeros((Nm,Nz)); MZout = np.zeros((Nm,Nz))\n",
    "    #evolve a grid of halo masses\n",
    "    print(\"evolving mass grid...\")\n",
    "    for j, Mhd in enumerate(Mh):\n",
    "        # instantiate a model galaxy with a given halo mass at the initial time\n",
    "        g = gmodel(t = t_output[0], Mh = Mhd, Mg = None, Ms = None, MZ = None,  \n",
    "                       Z_IGM = Z_IGM, verbose = False, tausf = tausf, \n",
    "                       sfrmodel = sfrmodel,  cosmo = cosmo)\n",
    "        # initial values of masses\n",
    "        y0 = np.array([g.Mh, g.Mg, g.Ms, g.MZ])\n",
    "        # solve the system of ODEs\n",
    "        Mout = odeint(g.evolve, y0, t_output, rtol = 1.e-5, mxstep = 4000)\n",
    "        # split Mout into arrays for specific masses with more intuitive names for convenience\n",
    "        Mhout[j,:] = Mout[:,0]; Mgout[j,:] = Mout[:,1]\n",
    "        Msout[j,:] = Mout[:,2]; MZout[j,:] = Mout[:,3]\n",
    "    print(\"done.\")\n",
    "\n",
    "    # \n",
    "    # prepare 2D splines for interpolation\n",
    "    #\n",
    "    Mmin = 1.e-10 # prevent zeros in case no SF occurred\n",
    "    lMhi = interp2d(lzg1, lMh, np.log10(np.maximum(Mmin,Mhout)), bounds_error=True, kind='cubic')\n",
    "    lMgi = interp2d(lzg1, lMh, np.log10(np.maximum(Mmin,Mgout)), bounds_error=True, kind='cubic')\n",
    "    lMsi = interp2d(lzg1, lMh, np.log10(np.maximum(Mmin,Msout)), bounds_error=True, kind='cubic')\n",
    "    lMZi = interp2d(lzg1, lMh, np.log10(np.maximum(Mmin,MZout)), bounds_error=True, kind='cubic')\n",
    "\n",
    "    return lMhi, lMgi, lMsi, lMZi"
   ]
  },
  {
   "cell_type": "code",
   "execution_count": 8,
   "metadata": {
    "slideshow": {
     "slide_type": "fragment"
    }
   },
   "outputs": [
    {
     "name": "stdout",
     "output_type": "stream",
     "text": [
      "evolving mass grid...\n",
      "done.\n"
     ]
    }
   ],
   "source": [
    "sfrmodel = 'gaslinear'; tausf = 2.; Z_IGM = 1.e-4*0.02\n",
    "\n",
    "# compute_mass_grid helper routine computes model for a grid of initial masses and across a grid of redshifts\n",
    "# the grid size is Nm x Nz\n",
    "lMhi, lMgi, lMsi, lMZi = compute_mass_grid(gmodel = gm.gmodel_UVheating, \n",
    "                                                   Nz=41, Nm=60, Z_IGM=Z_IGM, \n",
    "                                                   sfrmodel=sfrmodel, tausf=tausf, \n",
    "                                                   cosmo=cosmo)\n"
   ]
  },
  {
   "cell_type": "code",
   "execution_count": 9,
   "metadata": {
    "slideshow": {
     "slide_type": "skip"
    }
   },
   "outputs": [],
   "source": [
    "# read in M*-Mh relation derived in exercise 3 in ex02\n",
    "\n",
    "mhs, msmh = np.loadtxt('data/mhmsz0.dat', usecols=(0,1), unpack=True)\n"
   ]
  },
  {
   "cell_type": "code",
   "execution_count": 10,
   "metadata": {
    "slideshow": {
     "slide_type": "skip"
    }
   },
   "outputs": [
    {
     "data": {
      "image/png": "[encoded data removed]",
      "text/plain": [
       "<Figure size 500x500 with 1 Axes>"
      ]
     },
     "metadata": {
      "needs_background": "light"
     },
     "output_type": "display_data"
    }
   ],
   "source": [
    "plot_pretty(dpi=200)\n",
    "\n",
    "Nm = 81\n",
    "lMh = np.linspace(5.0, 8., Nm)\n",
    "Mh  = np.power(10, lMh)\n",
    "#\n",
    "# plot\n",
    "#\n",
    "\n",
    "fig = plt.figure(figsize=(2.5, 2.5))\n",
    "plot_pretty()\n",
    "plt.xlabel(r'$M_h\\ \\rm (M_\\odot)$')\n",
    "plt.ylabel(r'$M_{\\star}\\ \\rm (M_\\odot)$')\n",
    "plt.xlim(1.e7,1.e15); plt.ylim(1.e4,1.e13)\n",
    "plt.xscale('log'); plt.yscale('log')\n",
    "\n",
    "lMhlin = np.linspace(6., 16, 100); Mhlin = 10.**lMhlin\n",
    "Mslin = Mhlin * cosmo.Ob0/cosmo.Om0\n",
    "plt.plot(Mhlin, Mslin, ':', c='gray', lw=1.5, label=r'$\\Omega_{\\rm b}/\\Omega_{\\rm m}\\, M_{\\rm h}$')\n",
    "\n",
    "z_plot = np.array([0., 2.2, 3.5, 6.0])\n",
    "# colors a la Feldmann for easier comparison\n",
    "zcolors = ['green', 'red', 'blue', 'darkgray']\n",
    "for i, zplot in enumerate(z_plot):\n",
    "    Mhz = 10.**lMhi(np.log10(1.0+zplot),lMh)\n",
    "    Msz = 10.**lMsi(np.log10(1.0+zplot),lMh)\n",
    "    plt.plot(Mhz, Msz, c=zcolors[i], lw=2.5, label=r'$z=%1.1f$'%zplot)\n",
    "            \n",
    "plt.plot(mhs, msmh, c='darkorange', lw=2.5, label=r'$z=0\\ \\rm AM$')\n",
    "\n",
    "plt.legend(frameon=False,loc='lower right', fontsize=7)\n",
    "plt.grid(linestyle='dotted', c='lightgray')\n",
    "#plt.savefig('img/mhms_uvheating.png',bbox_inches='tight')\n",
    "plt.show()\n"
   ]
  },
  {
   "cell_type": "code",
   "execution_count": 11,
   "metadata": {
    "slideshow": {
     "slide_type": "skip"
    }
   },
   "outputs": [],
   "source": [
    "def Lambda_cool(Tgas, Zmet = 0.3, init=True):\n",
    "    \"\"\"\n",
    "    cooling function based on Gnedin & Hollon 2012 tables\n",
    "    input: \n",
    "    Tgas = gas temperature in K\n",
    "    Zmet = gas metallicity in units of solar metallicity\n",
    "        metallicity dependence is not implemented yet. calculations done for Z = 0.2Zsun.\n",
    "    output:\n",
    "    Lambda(T,z) = cooling function in ergs*cm^3/s\n",
    "    \"\"\"\n",
    "    if init:\n",
    "        dummy = np.loadtxt('data/cool_table_n1e-3.dat', unpack=True) \n",
    "        lTgh = dummy[0]; heat = dummy[3]; cool = dummy[4]\n",
    "        Lambda_cool.cfunc = UnivariateSpline(lTgh, np.log10(np.abs(heat-cool)), s=0.0)\n",
    "        return 0.0\n",
    "    else:\n",
    "        return  Lambda_cool.cfunc(np.log10(Tgas))\n"
   ]
  },
  {
   "cell_type": "code",
   "execution_count": 12,
   "metadata": {
    "slideshow": {
     "slide_type": "skip"
    }
   },
   "outputs": [
    {
     "data": {
      "image/png": "[encoded data removed]",
      "text/plain": [
       "<Figure size 437.5x437.5 with 1 Axes>"
      ]
     },
     "metadata": {
      "needs_background": "light"
     },
     "output_type": "display_data"
    }
   ],
   "source": [
    "from colossus.cosmology import cosmology\n",
    "from colossus.halo.mass_so import M_to_R\n",
    "from scipy.interpolate import UnivariateSpline\n",
    "\n",
    "delta_vir = 200.; \n",
    "Zmet = 0.001; z=0.\n",
    "# some relevant constants\n",
    "Msun = 1.989e33; kpc = 3.08568e+21; G = 6.67259e-08; yr = 3.15569e+07\n",
    "mu = 0.6; mp = 1.67262e-24; \n",
    "kB = 1.38066e-16; keV = 1.60219e-09\n",
    "mump = 0.6*mp\n",
    "\n",
    "# define a vector of cosmological parameters:    \n",
    "my_cosmo = {'flat': True, 'H0': 70.0, 'Om0': 0.27, 'Ob0': 0.045714, 'sigma8': 0.82, 'ns': 0.96}\n",
    "# set my_cosmo to be the current cosmology\n",
    "cosmo = cosmology.setCosmology('my_cosmo', my_cosmo) \n",
    "\n",
    "# We use 200c mass definition for halo profile, but compute gas density at Delta=200m wrt mean density\n",
    "mdef = '200c'\n",
    "lMhmin, lMhmax = 7., 15.\n",
    "lm200c = np.arange(lMhmin, lMhmax, 0.02)\n",
    "m200c = np.power(10.,lm200c)/cosmo.h\n",
    "r200c = M_to_R(m200c, z, '200c')/cosmo.h\n",
    "kT200c = 4.3013e4*m200c/r200c*mump\n",
    "n200c = delta_vir*cosmo.Ob0/cosmo.Om0*cosmo.Om0*cosmo.rho_c(z)*cosmo.h**2*Msun/kpc**3/mump # colossus returns density in h^2 Msun/kpc^3\n",
    "\n",
    "Lambda_cool(kT200c/kB, Zmet = Zmet, init=True)\n",
    "\n",
    "tcool = 3.*kT200c/(5.* n200c*10.**Lambda_cool(kT200c/kB,Zmet=Zmet, init=False))/yr\n",
    "\n",
    "\n",
    "plt.figure(figsize=(2.5,2.5))\n",
    "plt.xscale('log'); plt.yscale('log')\n",
    "plt.xlabel(r'$M_{200c}$'); plt.ylabel(r'$t_{\\rm cool}\\ \\mathrm{(yrs)}$')\n",
    "plt.xlim(1.e9,1e15); plt.ylim(1.e7,1.e12)\n",
    "\n",
    "# mean matter density rho_crit(z)*Omega0 in h^2 Msun/kpc^3\n",
    "dmean = 2.77e2\n",
    "plt.plot(m200c, tcool, c='darkslateblue', lw=2.0, label=r'$\\mathrm{t_{\\rm cool}\\ (yrs)}$')\n",
    "\n",
    "tU = cosmo.age(z)*np.ones_like(m200c)\n",
    "plt.plot(m200c, tU*1e9, '--', c='slateblue', lw=2.0, label=r'$\\mathrm{age\\ of\\ the\\ universe}$')\n",
    "\n",
    "plt.grid(linestyle='dotted', c='lightgray')\n",
    "plt.legend(frameon=False, loc='upper left', fontsize=8)\n",
    "#plt.savefig('img/tcool_M200c.png', bbox_inches='tight')\n",
    "plt.show()\n"
   ]
  },
  {
   "cell_type": "code",
   "execution_count": 13,
   "metadata": {},
   "outputs": [
    {
     "name": "stdout",
     "output_type": "stream",
     "text": [
      "evolving mass grid...\n",
      "done.\n"
     ]
    }
   ],
   "source": [
    "lMhi, lMgi, lMsi, lMZi = compute_mass_grid(gmodel = gm.gmodel_heating, \n",
    "                                                   Nz=41, Nm=60, Z_IGM=Z_IGM, \n",
    "                                                   sfrmodel=sfrmodel, tausf=tausf, cosmo=cosmo)\n"
   ]
  },
  {
   "cell_type": "code",
   "execution_count": 14,
   "metadata": {},
   "outputs": [
    {
     "data": {
      "image/png": "[encoded data removed]",
      "text/plain": [
       "<Figure size 437.5x437.5 with 1 Axes>"
      ]
     },
     "metadata": {
      "needs_background": "light"
     },
     "output_type": "display_data"
    }
   ],
   "source": [
    "Nm = 81\n",
    "lMh = np.linspace(5.0, 8., Nm)\n",
    "Mh  = np.power(10, lMh)\n",
    "#\n",
    "# plot\n",
    "#\n",
    "\n",
    "fig = plt.figure(figsize=(2.5, 2.5))\n",
    "plot_pretty()\n",
    "plt.xlabel(r'$M_h\\ \\rm (M_\\odot)$')\n",
    "plt.ylabel(r'$M_{\\star}\\ \\rm (M_\\odot)$')\n",
    "plt.xlim(1.e7,1.e15); plt.ylim(1.e4,1.e13)\n",
    "plt.xscale('log'); plt.yscale('log')\n",
    "\n",
    "lMhlin = np.linspace(6., 16, 100); Mhlin = 10.**lMhlin\n",
    "Mslin = Mhlin * cosmo.Ob0/cosmo.Om0\n",
    "plt.plot(Mhlin, Mslin, ':', c='gray', lw=1.5, label=r'$\\Omega_{\\rm b}/\\Omega_{\\rm m}\\, M_{\\rm h}$')\n",
    "\n",
    "z_plot = np.array([0., 2.2, 3.5, 6.0])\n",
    "# colors a la Feldmann for easier comparison\n",
    "zcolors = ['green', 'red', 'blue', 'darkgray']\n",
    "for i, zplot in enumerate(z_plot):\n",
    "    Mhz = 10.**lMhi(np.log10(1.0+zplot),lMh)\n",
    "    Msz = 10.**lMsi(np.log10(1.0+zplot),lMh)\n",
    "    plt.plot(Mhz, Msz, c=zcolors[i], lw=2.5, label=r'$z=%1.1f$'%zplot)\n",
    "            \n",
    "\n",
    "plt.plot(mhs, msmh, c='darkorange', lw=2.5, label=r'$z=0\\ \\rm AM$')\n",
    "\n",
    "plt.legend(frameon=False,loc='lower right', fontsize=7)\n",
    "plt.grid(linestyle='dotted', c='lightgray')\n",
    "#plt.savefig('img/mhms_UV_mhot.png',bbox_inches='tight')\n",
    "plt.show()\n"
   ]
  },
  {
   "cell_type": "code",
   "execution_count": 30,
   "metadata": {},
   "outputs": [],
   "source": [
    "def compute_mass_grid_wind(gmodel = None, Nz=81, Nm=60, Z_IGM=2.e-5, windmodel=None,\n",
    "                      etawind=None, alfawind=None, sfrmodel='gaslinear', tausf=2.0, cosmo=None):\n",
    "    # grid of redshifts and halo masses\n",
    "    zg = np.linspace(30., 0., Nz)\n",
    "    lzg1 = np.log10(1.0+zg)\n",
    "    t_output = cosmo.age(zg)\n",
    "    \n",
    "    lMh = np.linspace(5.0, 8., Nm)\n",
    "    Mh  = np.power(10, lMh)\n",
    "\n",
    "    # arrays to hold evolutionary grids of halo mass, gas mass, stellar mass and metal mass\n",
    "    Mhout = np.zeros((Nm,Nz)); Mgout = np.zeros((Nm,Nz))\n",
    "    Msout = np.zeros((Nm,Nz)); MZout = np.zeros((Nm,Nz))\n",
    "    #evolve a grid of halo masses\n",
    "    print(\"evolving mass grid...\")\n",
    "    for j, Mhd in enumerate(Mh):\n",
    "        # instantiate a model galaxy with a given halo mass at the initial time\n",
    "        g = gmodel(t = t_output[0], Mh = Mhd, Mg = None, Ms = None, MZ = None,  \n",
    "                       Z_IGM = Z_IGM, verbose = False, tausf = tausf, etawind=etawind, alfawind=alfawind,\n",
    "                       sfrmodel = sfrmodel, windmodel=windmodel, cosmo = cosmo)\n",
    "        # initial values of masses\n",
    "        y0 = np.array([g.Mh, g.Mg, g.Ms, g.MZ])\n",
    "        # solve the system of ODEs\n",
    "        Mout = odeint(g.evolve, y0, t_output, rtol = 1.e-5, mxstep = 4000)\n",
    "        # split Mout into arrays for specific masses with more intuitive names for convenience\n",
    "        Mhout[j,:] = Mout[:,0]; Mgout[j,:] = Mout[:,1]\n",
    "        Msout[j,:] = Mout[:,2]; MZout[j,:] = Mout[:,3]\n",
    "    print(\"done.\")\n",
    "\n",
    "    # \n",
    "    # prepare 2D splines for interpolation\n",
    "    #\n",
    "    Mmin = 1.e-10 # prevent zeros in case no SF occurred\n",
    "    lMhi = interp2d(lzg1, lMh, np.log10(np.maximum(Mmin,Mhout)), bounds_error=True, kind='cubic')\n",
    "    lMgi = interp2d(lzg1, lMh, np.log10(np.maximum(Mmin,Mgout)), bounds_error=True, kind='cubic')\n",
    "    lMsi = interp2d(lzg1, lMh, np.log10(np.maximum(Mmin,Msout)), bounds_error=True, kind='cubic')\n",
    "    lMZi = interp2d(lzg1, lMh, np.log10(np.maximum(Mmin,MZout)), bounds_error=True, kind='cubic')\n",
    "\n",
    "    return lMhi, lMgi, lMsi, lMZi"
   ]
  },
  {
   "cell_type": "code",
   "execution_count": 63,
   "metadata": {},
   "outputs": [
    {
     "name": "stdout",
     "output_type": "stream",
     "text": [
      "evolving mass grid...\n",
      "done.\n"
     ]
    }
   ],
   "source": [
    "lMhi, lMgi, lMsi, lMZi = compute_mass_grid_wind(gmodel = gm.gmodel_wind,  \n",
    "                                                Nz=41, Nm=60, Z_IGM=Z_IGM, windmodel='Muratov15mod',\n",
    "                                                etawind=3.6, alfawind=-0.35, \n",
    "                                                sfrmodel=sfrmodel, tausf=tausf, cosmo=cosmo)\n"
   ]
  },
  {
   "cell_type": "code",
   "execution_count": 65,
   "metadata": {},
   "outputs": [
    {
     "data": {
      "image/png": "[encoded data removed]",
      "text/plain": [
       "<Figure size 437.5x437.5 with 1 Axes>"
      ]
     },
     "metadata": {
      "needs_background": "light"
     },
     "output_type": "display_data"
    }
   ],
   "source": [
    "Nm = 81\n",
    "lMh = np.linspace(5.0, 8., Nm)\n",
    "Mh  = np.power(10, lMh)\n",
    "#\n",
    "# plot\n",
    "#\n",
    "\n",
    "fig = plt.figure(figsize=(2.5, 2.5))\n",
    "plot_pretty()\n",
    "plt.xlabel(r'$M_h\\ \\rm (M_\\odot)$')\n",
    "plt.ylabel(r'$M_{\\star}\\ \\rm (M_\\odot)$')\n",
    "plt.xlim(1.e7,1.e15); plt.ylim(1.e4,1.e13)\n",
    "plt.xscale('log'); plt.yscale('log')\n",
    "\n",
    "lMhlin = np.linspace(6., 16, 100); Mhlin = 10.**lMhlin\n",
    "Mslin = Mhlin * cosmo.Ob0/cosmo.Om0\n",
    "plt.plot(Mhlin, Mslin, ':', c='gray', lw=1.5, label=r'$\\Omega_{\\rm b}/\\Omega_{\\rm m}\\, M_{\\rm h}$')\n",
    "\n",
    "z_plot = np.array([0., 2.2, 3.5, 6.0])\n",
    "# colors a la Feldmann for easier comparison\n",
    "zcolors = ['green', 'red', 'blue', 'darkgray']\n",
    "for i, zplot in enumerate(z_plot):\n",
    "    Mhz = 10.**lMhi(np.log10(1.0+zplot),lMh)\n",
    "    Msz = 10.**lMsi(np.log10(1.0+zplot),lMh)\n",
    "    plt.plot(Mhz, Msz, c=zcolors[i], lw=2.5, label=r'$z=%1.1f$'%zplot)\n",
    "            \n",
    "\n",
    "plt.plot(mhs, msmh, c='darkorange', lw=2.5, label=r'$z=0\\ \\rm AM$')\n",
    "\n",
    "plt.legend(frameon=False,loc='lower right', fontsize=7)\n",
    "plt.grid(linestyle='dotted', c='lightgray')\n",
    "plt.savefig('img/mhms_UV_mhot_m15wind.png',bbox_inches='tight')\n",
    "plt.show()\n"
   ]
  },
  {
   "cell_type": "code",
   "execution_count": null,
   "metadata": {},
   "outputs": [],
   "source": []
  }
 ],
 "metadata": {
  "celltoolbar": "Slideshow",
  "kernelspec": {
   "display_name": "Python 3",
   "language": "python",
   "name": "python3"
  },
  "language_info": {
   "codemirror_mode": {
    "name": "ipython",
    "version": 3
   },
   "file_extension": ".py",
   "mimetype": "text/x-python",
   "name": "python",
   "nbconvert_exporter": "python",
   "pygments_lexer": "ipython3",
   "version": "3.7.1"
  }
 },
 "nbformat": 4,
 "nbformat_minor": 1
}
